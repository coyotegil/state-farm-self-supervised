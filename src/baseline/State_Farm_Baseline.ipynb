{
 "cells": [
  {
   "cell_type": "markdown",
   "id": "21cb182a",
   "metadata": {},
   "source": [
    "# State Farm Distracted Driver Detection - Individual Project (JGS)\n",
    "\n",
    "Dataset used for this individual project can be downloaded from Kaggle\n",
    "https://www.kaggle.com/c/state-farm-distracted-driver-detection/overview"
   ]
  },
  {
   "cell_type": "code",
   "execution_count": 1,
   "id": "88f4e8d8",
   "metadata": {},
   "outputs": [
    {
     "name": "stdout",
     "output_type": "stream",
     "text": [
      "Init Plugin\n",
      "Init Graph Optimizer\n",
      "Init Kernel\n"
     ]
    }
   ],
   "source": [
    "import os\n",
    "import shutil\n",
    "import tensorflow as tf\n",
    "import numpy as np\n",
    "import pandas as pd\n",
    "import matplotlib.pyplot as plt\n",
    "import random"
   ]
  },
  {
   "cell_type": "markdown",
   "id": "4f6d1a80",
   "metadata": {},
   "source": [
    "## 1) Data Wrangling\n",
    "\n",
    "Setup the data folder and check if the number of examples (files) matches with the information on the CSV file."
   ]
  },
  {
   "cell_type": "code",
   "execution_count": 2,
   "id": "a62de5d6",
   "metadata": {},
   "outputs": [],
   "source": [
    "# Set this variable to the root folder of the State Farm Distratec Driver Detection Data\n",
    "local_data = \"/Users/gil/Downloads/state-farm-distracted-driver-detection\""
   ]
  },
  {
   "cell_type": "code",
   "execution_count": 3,
   "id": "f4767c96",
   "metadata": {},
   "outputs": [
    {
     "data": {
      "text/html": [
       "<div>\n",
       "<style scoped>\n",
       "    .dataframe tbody tr th:only-of-type {\n",
       "        vertical-align: middle;\n",
       "    }\n",
       "\n",
       "    .dataframe tbody tr th {\n",
       "        vertical-align: top;\n",
       "    }\n",
       "\n",
       "    .dataframe thead th {\n",
       "        text-align: right;\n",
       "    }\n",
       "</style>\n",
       "<table border=\"1\" class=\"dataframe\">\n",
       "  <thead>\n",
       "    <tr style=\"text-align: right;\">\n",
       "      <th></th>\n",
       "      <th>subject</th>\n",
       "      <th>classname</th>\n",
       "      <th>img</th>\n",
       "    </tr>\n",
       "  </thead>\n",
       "  <tbody>\n",
       "    <tr>\n",
       "      <th>0</th>\n",
       "      <td>p002</td>\n",
       "      <td>c0</td>\n",
       "      <td>img_44733.jpg</td>\n",
       "    </tr>\n",
       "    <tr>\n",
       "      <th>1</th>\n",
       "      <td>p002</td>\n",
       "      <td>c0</td>\n",
       "      <td>img_72999.jpg</td>\n",
       "    </tr>\n",
       "    <tr>\n",
       "      <th>2</th>\n",
       "      <td>p002</td>\n",
       "      <td>c0</td>\n",
       "      <td>img_25094.jpg</td>\n",
       "    </tr>\n",
       "    <tr>\n",
       "      <th>3</th>\n",
       "      <td>p002</td>\n",
       "      <td>c0</td>\n",
       "      <td>img_69092.jpg</td>\n",
       "    </tr>\n",
       "    <tr>\n",
       "      <th>4</th>\n",
       "      <td>p002</td>\n",
       "      <td>c0</td>\n",
       "      <td>img_92629.jpg</td>\n",
       "    </tr>\n",
       "  </tbody>\n",
       "</table>\n",
       "</div>"
      ],
      "text/plain": [
       "  subject classname            img\n",
       "0    p002        c0  img_44733.jpg\n",
       "1    p002        c0  img_72999.jpg\n",
       "2    p002        c0  img_25094.jpg\n",
       "3    p002        c0  img_69092.jpg\n",
       "4    p002        c0  img_92629.jpg"
      ]
     },
     "execution_count": 3,
     "metadata": {},
     "output_type": "execute_result"
    }
   ],
   "source": [
    "# Load the Driver, Class, Image CSV file into a panda\n",
    "df_image_class = pd.read_csv(os.path.join(local_data, \"driver_imgs_list.csv\"))\n",
    "df_image_class.head()"
   ]
  },
  {
   "cell_type": "code",
   "execution_count": 5,
   "id": "d0c6c56a",
   "metadata": {},
   "outputs": [
    {
     "name": "stdout",
     "output_type": "stream",
     "text": [
      "The number of training examples is:  22424\n",
      "The number of unique image filenames is:  22424\n",
      "The number of examples per class is: \n",
      "\n",
      "c0    2489\n",
      "c1    2267\n",
      "c2    2317\n",
      "c3    2346\n",
      "c4    2326\n",
      "c5    2312\n",
      "c6    2325\n",
      "c7    2002\n",
      "c8    1911\n",
      "c9    2129\n",
      "Name: classname, dtype: int64\n"
     ]
    },
    {
     "data": {
      "text/plain": [
       "<AxesSubplot:>"
      ]
     },
     "execution_count": 5,
     "metadata": {},
     "output_type": "execute_result"
    },
    {
     "data": {
      "image/png": "[encoded data removed]",
      "text/plain": [
       "<Figure size 432x288 with 1 Axes>"
      ]
     },
     "metadata": {
      "needs_background": "light"
     },
     "output_type": "display_data"
    }
   ],
   "source": [
    "print(\"The number of training examples is: \", df_image_class.shape[0])\n",
    "\n",
    "# Let's check if there are 22424 unique examples\n",
    "\n",
    "print(\"The number of unique image filenames is: \", len(df_image_class[\"img\"].unique()))\n",
    "\n",
    "# Let's check the number of examples per class\n",
    "print(\"The number of examples per class is: \\n\")\n",
    "print(df_image_class[\"classname\"].value_counts(sort=False))\n",
    "df_image_class[\"classname\"].value_counts(sort=False).plot.bar()"
   ]
  },
  {
   "cell_type": "markdown",
   "id": "c6931ddf",
   "metadata": {},
   "source": [
    "It seems like the data is well balanced (around the same amount of examples per class). Let's now check if the files actually match the info on the CSV file."
   ]
  },
  {
   "cell_type": "code",
   "execution_count": 6,
   "id": "97a89047",
   "metadata": {},
   "outputs": [
    {
     "name": "stdout",
     "output_type": "stream",
     "text": [
      "Number of c0 files:  2489\n",
      "Number of c1 files:  2267\n",
      "Number of c2 files:  2317\n",
      "Number of c3 files:  2346\n",
      "Number of c4 files:  2326\n",
      "Number of c5 files:  2312\n",
      "Number of c6 files:  2325\n",
      "Number of c7 files:  2002\n",
      "Number of c8 files:  1911\n",
      "Number of c9 files:  2129\n"
     ]
    }
   ],
   "source": [
    "for i in range(10):\n",
    "    print(\n",
    "        f\"Number of c{i} files: \",\n",
    "        len(os.listdir(os.path.join(local_data, f\"imgs/train/c{i}\"))),\n",
    "    )"
   ]
  },
  {
   "cell_type": "markdown",
   "id": "113e06d8",
   "metadata": {},
   "source": [
    "***All the numbers seem to match! So we are all set to start spliting between Train and Validation sets.***"
   ]
  },
  {
   "cell_type": "markdown",
   "id": "de5ee599",
   "metadata": {},
   "source": [
    "## Training/Validation split\n",
    "\n",
    "We are going to split the original training data between training and validation sets"
   ]
  },
  {
   "cell_type": "code",
   "execution_count": 23,
   "id": "70acd4ac",
   "metadata": {},
   "outputs": [],
   "source": [
    "# Using os.mkdir to create the directories for training and validation sets inside our local_data path\n",
    "# Then we create subdirectories for each class inside the training and validation folders\n",
    "\n",
    "try:\n",
    "    os.mkdir(os.path.join(local_data, \"training\"))\n",
    "    os.mkdir(os.path.join(local_data, \"validation\"))\n",
    "    for i in range(10):\n",
    "        os.mkdir(os.path.join(local_data, f\"training/c{i}\"))\n",
    "        os.mkdir(os.path.join(local_data, f\"validation/c{i}\"))\n",
    "except OSError:\n",
    "    pass"
   ]
  },
  {
   "cell_type": "code",
   "execution_count": 4,
   "id": "6a981c8d",
   "metadata": {},
   "outputs": [],
   "source": [
    "# Writing a split_data function that takes\n",
    "# a path to the SOURCE directory containing the files\n",
    "# a path to the TRAINING directory that will hold the training files\n",
    "# a path to the VALIDATION directory that will hold the validation files\n",
    "# a SPLIT SIZE to determine the portion\n",
    "\n",
    "# We'll also randomized the files so that the training set is a random\n",
    "# % of the files and the validation set is the remaining files\n",
    "# For example, if SOURCE is img/train/c0 and SPLIT SIZE is .9\n",
    "# Then 90% of the images in img/train/c0 will be copied to the TRAINING folder\n",
    "# and 10% of the images will be copied to the VALIDATION folder\n",
    "# We are also going to check the size of all images and if they have a zero\n",
    "# file length,they will not be copied over\n",
    "\n",
    "\n",
    "def split_data(SOURCE, TRAINING, VALIDATION, SPLIT_SIZE):\n",
    "\n",
    "    random_source = random.sample(os.listdir(SOURCE), len(os.listdir(SOURCE)))\n",
    "    n_training_files = n_validation_files = n_zero_length_files = 0\n",
    "\n",
    "    for i, source_file in enumerate(random_source):\n",
    "        if i < SPLIT_SIZE * len(random_source):\n",
    "            if os.path.getsize(os.path.join(SOURCE, source_file)) != 0:\n",
    "                shutil.copyfile(\n",
    "                    os.path.join(SOURCE, source_file),\n",
    "                    os.path.join(TRAINING, source_file),\n",
    "                )\n",
    "                n_training_files += 1\n",
    "            else:\n",
    "                print(f\"File {source_file} is zero lengh so we don't copy it\")\n",
    "                n_zero_length_files += 1\n",
    "        else:\n",
    "            if os.path.getsize(os.path.join(SOURCE, source_file)) != 0:\n",
    "                shutil.copyfile(\n",
    "                    os.path.join(SOURCE, source_file),\n",
    "                    os.path.join(VALIDATION, source_file),\n",
    "                )\n",
    "                n_validation_files += 1\n",
    "            else:\n",
    "                print(f\"File {source_file} is zero lengh so we don't copy it\")\n",
    "                n_zero_length_files += 1\n",
    "\n",
    "    print(\"\\nNumber of total files processed: \", i + 1)\n",
    "    print(\"Number of zero length files found: \", n_zero_length_files)\n",
    "    print(\"Number of files copied to training directory: \", n_training_files)\n",
    "    print(\"Number of files copied to validation directory: \", n_validation_files)"
   ]
  },
  {
   "cell_type": "code",
   "execution_count": 24,
   "id": "0ff635c1",
   "metadata": {},
   "outputs": [
    {
     "name": "stdout",
     "output_type": "stream",
     "text": [
      "\n",
      "For class c0 with have the following:\n",
      "\n",
      "Number of total files processed:  2489\n",
      "Number of zero length files found:  0\n",
      "Number of files copied to training directory:  2241\n",
      "Number of files copied to validation directory:  248\n",
      "\n",
      "For class c1 with have the following:\n",
      "\n",
      "Number of total files processed:  2267\n",
      "Number of zero length files found:  0\n",
      "Number of files copied to training directory:  2041\n",
      "Number of files copied to validation directory:  226\n",
      "\n",
      "For class c2 with have the following:\n",
      "\n",
      "Number of total files processed:  2317\n",
      "Number of zero length files found:  0\n",
      "Number of files copied to training directory:  2086\n",
      "Number of files copied to validation directory:  231\n",
      "\n",
      "For class c3 with have the following:\n",
      "\n",
      "Number of total files processed:  2346\n",
      "Number of zero length files found:  0\n",
      "Number of files copied to training directory:  2112\n",
      "Number of files copied to validation directory:  234\n",
      "\n",
      "For class c4 with have the following:\n",
      "\n",
      "Number of total files processed:  2326\n",
      "Number of zero length files found:  0\n",
      "Number of files copied to training directory:  2094\n",
      "Number of files copied to validation directory:  232\n",
      "\n",
      "For class c5 with have the following:\n",
      "\n",
      "Number of total files processed:  2312\n",
      "Number of zero length files found:  0\n",
      "Number of files copied to training directory:  2081\n",
      "Number of files copied to validation directory:  231\n",
      "\n",
      "For class c6 with have the following:\n",
      "\n",
      "Number of total files processed:  2325\n",
      "Number of zero length files found:  0\n",
      "Number of files copied to training directory:  2093\n",
      "Number of files copied to validation directory:  232\n",
      "\n",
      "For class c7 with have the following:\n",
      "\n",
      "Number of total files processed:  2002\n",
      "Number of zero length files found:  0\n",
      "Number of files copied to training directory:  1802\n",
      "Number of files copied to validation directory:  200\n",
      "\n",
      "For class c8 with have the following:\n",
      "\n",
      "Number of total files processed:  1911\n",
      "Number of zero length files found:  0\n",
      "Number of files copied to training directory:  1720\n",
      "Number of files copied to validation directory:  191\n",
      "\n",
      "For class c9 with have the following:\n",
      "\n",
      "Number of total files processed:  2129\n",
      "Number of zero length files found:  0\n",
      "Number of files copied to training directory:  1917\n",
      "Number of files copied to validation directory:  212\n"
     ]
    }
   ],
   "source": [
    "# Now we call the split_data function passing the different SOURCE, TRAINING\n",
    "# and VALIDATION paths to every class\n",
    "\n",
    "# Let's set the split size as 90% to training and 10% to validation\n",
    "split_size = 0.9\n",
    "\n",
    "# Use a forloop to go over the 10 classes c0 to c9 and split the data\n",
    "for i in range(10):\n",
    "    source = os.path.join(local_data, f\"imgs/train/c{i}\")\n",
    "    training = os.path.join(local_data, f\"training/c{i}\")\n",
    "    validation = os.path.join(local_data, f\"validation/c{i}\")\n",
    "    print(f\"\\nFor class c{i} with have the following:\")\n",
    "    split_data(source, training, validation, split_size)"
   ]
  },
  {
   "cell_type": "markdown",
   "id": "ce35058f",
   "metadata": {},
   "source": [
    "***Now we are ready to start playing with some models!!***"
   ]
  },
  {
   "cell_type": "markdown",
   "id": "8bca815b",
   "metadata": {},
   "source": [
    "## 2) Creating a ImageDataGenerator for our training and validation images\n",
    "We'll use these generators to feed our tensorflow models. We'll also use it to normalize the input images and to implement data augmentation on the training data.\n",
    "\n",
    "Defining the input image size as 300x300. Later we'll experiment with different sizes. The original image size is 640x480."
   ]
  },
  {
   "cell_type": "code",
   "execution_count": 5,
   "id": "f7e57c6a",
   "metadata": {},
   "outputs": [
    {
     "name": "stdout",
     "output_type": "stream",
     "text": [
      "Found 20187 images belonging to 10 classes.\n",
      "Found 2237 images belonging to 10 classes.\n"
     ]
    }
   ],
   "source": [
    "# Creating the ImageDataGenerator for the training data\n",
    "TRAINING_DIR = os.path.join(local_data, \"training\")\n",
    "train_datagen = tf.keras.preprocessing.image.ImageDataGenerator(\n",
    "    rescale=1.0 / 255,\n",
    "    rotation_range=40,\n",
    "    width_shift_range=0.2,\n",
    "    height_shift_range=0.2,\n",
    "    shear_range=0.2,\n",
    "    zoom_range=0.2,\n",
    "    horizontal_flip=True,\n",
    "    fill_mode=\"nearest\",\n",
    ")\n",
    "train_generator = train_datagen.flow_from_directory(\n",
    "    TRAINING_DIR, target_size=(320, 240), batch_size=100, class_mode=\"categorical\"\n",
    ")\n",
    "\n",
    "# Creating the ImageDataGenerator for the validation data\n",
    "VALIDATION_DIR = os.path.join(local_data, \"validation\")\n",
    "validation_datagen = tf.keras.preprocessing.image.ImageDataGenerator(rescale=1.0 / 255)\n",
    "validation_generator = validation_datagen.flow_from_directory(\n",
    "    VALIDATION_DIR, target_size=(320, 240), batch_size=100, class_mode=\"categorical\"\n",
    ")"
   ]
  },
  {
   "cell_type": "markdown",
   "id": "e606ddb1",
   "metadata": {},
   "source": [
    "## 3) Let's create a simple CNN to start playing around with this dataset!"
   ]
  },
  {
   "cell_type": "code",
   "execution_count": 6,
   "id": "46fa96c0",
   "metadata": {},
   "outputs": [
    {
     "name": "stdout",
     "output_type": "stream",
     "text": [
      "Metal device set to: Apple M1\n"
     ]
    },
    {
     "name": "stderr",
     "output_type": "stream",
     "text": [
      "2021-07-14 21:33:54.635803: I tensorflow/core/common_runtime/pluggable_device/pluggable_device_factory.cc:305] Could not identify NUMA node of platform GPU ID 0, defaulting to 0. Your kernel may not have been built with NUMA support.\n",
      "2021-07-14 21:33:54.636351: I tensorflow/core/common_runtime/pluggable_device/pluggable_device_factory.cc:271] Created TensorFlow device (/job:localhost/replica:0/task:0/device:GPU:0 with 0 MB memory) -> physical PluggableDevice (device: 0, name: METAL, pci bus id: <undefined>)\n"
     ]
    }
   ],
   "source": [
    "# Defining a keral model with 5 Convolutational Layers followed by MaxPooling\n",
    "# One dense layer with 512 neurons\n",
    "# One output softmax layer with 10 neurons to predict the classes\n",
    "\n",
    "first_model = tf.keras.models.Sequential(\n",
    "    [\n",
    "        # First CONV + Pool layers\n",
    "        tf.keras.layers.Conv2D(\n",
    "            16, (3, 3), activation=\"relu\", input_shape=(320, 240, 3)\n",
    "        ),\n",
    "        tf.keras.layers.MaxPooling2D(2, 2),\n",
    "        # Second CONV + Pool layers\n",
    "        tf.keras.layers.Conv2D(32, (3, 3), activation=\"relu\"),\n",
    "        tf.keras.layers.MaxPooling2D(2, 2),\n",
    "        # Third CONV + Pool layers\n",
    "        tf.keras.layers.Conv2D(64, (3, 3), activation=\"relu\"),\n",
    "        tf.keras.layers.MaxPooling2D(2, 2),\n",
    "        # Forth CONV + Pool layers\n",
    "        tf.keras.layers.Conv2D(64, (3, 3), activation=\"relu\"),\n",
    "        tf.keras.layers.MaxPooling2D(2, 2),\n",
    "        # Fifth CONV + Pool layers\n",
    "        tf.keras.layers.Conv2D(64, (3, 3), activation=\"relu\"),\n",
    "        tf.keras.layers.MaxPooling2D(2, 2),\n",
    "        # Flatten to feed into the Dense NN\n",
    "        tf.keras.layers.Flatten(),\n",
    "        # First Dense layer with 512 neurons\n",
    "        tf.keras.layers.Dense(512, activation=\"relu\"),\n",
    "        # Output layer with 10 neurons\n",
    "        tf.keras.layers.Dense(10, activation=\"softmax\"),\n",
    "    ]\n",
    ")\n",
    "\n",
    "first_model.compile(\n",
    "    optimizer=\"Adam\", loss=\"categorical_crossentropy\", metrics=[\"accuracy\"]\n",
    ")"
   ]
  },
  {
   "cell_type": "code",
   "execution_count": 36,
   "id": "204d8575",
   "metadata": {},
   "outputs": [
    {
     "name": "stdout",
     "output_type": "stream",
     "text": [
      "Model: \"sequential_3\"\n",
      "_________________________________________________________________\n",
      "Layer (type)                 Output Shape              Param #   \n",
      "=================================================================\n",
      "conv2d_15 (Conv2D)           (None, 318, 238, 16)      448       \n",
      "_________________________________________________________________\n",
      "max_pooling2d_15 (MaxPooling (None, 159, 119, 16)      0         \n",
      "_________________________________________________________________\n",
      "conv2d_16 (Conv2D)           (None, 157, 117, 32)      4640      \n",
      "_________________________________________________________________\n",
      "max_pooling2d_16 (MaxPooling (None, 78, 58, 32)        0         \n",
      "_________________________________________________________________\n",
      "conv2d_17 (Conv2D)           (None, 76, 56, 64)        18496     \n",
      "_________________________________________________________________\n",
      "max_pooling2d_17 (MaxPooling (None, 38, 28, 64)        0         \n",
      "_________________________________________________________________\n",
      "conv2d_18 (Conv2D)           (None, 36, 26, 64)        36928     \n",
      "_________________________________________________________________\n",
      "max_pooling2d_18 (MaxPooling (None, 18, 13, 64)        0         \n",
      "_________________________________________________________________\n",
      "conv2d_19 (Conv2D)           (None, 16, 11, 64)        36928     \n",
      "_________________________________________________________________\n",
      "max_pooling2d_19 (MaxPooling (None, 8, 5, 64)          0         \n",
      "_________________________________________________________________\n",
      "flatten_3 (Flatten)          (None, 2560)              0         \n",
      "_________________________________________________________________\n",
      "dense_6 (Dense)              (None, 512)               1311232   \n",
      "_________________________________________________________________\n",
      "dense_7 (Dense)              (None, 10)                5130      \n",
      "=================================================================\n",
      "Total params: 1,413,802\n",
      "Trainable params: 1,413,802\n",
      "Non-trainable params: 0\n",
      "_________________________________________________________________\n"
     ]
    }
   ],
   "source": [
    "first_model.summary()"
   ]
  },
  {
   "cell_type": "code",
   "execution_count": 7,
   "id": "605f9eb0",
   "metadata": {},
   "outputs": [
    {
     "name": "stderr",
     "output_type": "stream",
     "text": [
      "2021-07-14 21:34:04.803210: I tensorflow/compiler/mlir/mlir_graph_optimization_pass.cc:176] None of the MLIR Optimization Passes are enabled (registered 2)\n",
      "2021-07-14 21:34:04.804338: W tensorflow/core/platform/profile_utils/cpu_utils.cc:128] Failed to get CPU frequency: 0 Hz\n",
      "2021-07-14 21:34:04.959378: I tensorflow/core/grappler/optimizers/custom_graph_optimizer_registry.cc:112] Plugin optimizer for device_type GPU is enabled.\n"
     ]
    },
    {
     "name": "stdout",
     "output_type": "stream",
     "text": [
      "Epoch 1/40\n",
      "202/202 [==============================] - ETA: 0s - loss: 2.2893 - accuracy: 0.1209"
     ]
    },
    {
     "name": "stderr",
     "output_type": "stream",
     "text": [
      "2021-07-14 21:37:17.799979: I tensorflow/core/grappler/optimizers/custom_graph_optimizer_registry.cc:112] Plugin optimizer for device_type GPU is enabled.\n"
     ]
    },
    {
     "name": "stdout",
     "output_type": "stream",
     "text": [
      "202/202 [==============================] - 199s 980ms/step - loss: 2.2893 - accuracy: 0.1209 - val_loss: 2.1703 - val_accuracy: 0.2052\n",
      "Epoch 2/40\n",
      "202/202 [==============================] - 199s 982ms/step - loss: 1.9484 - accuracy: 0.2749 - val_loss: 1.6860 - val_accuracy: 0.3330\n",
      "Epoch 3/40\n",
      "202/202 [==============================] - 201s 992ms/step - loss: 1.5660 - accuracy: 0.4128 - val_loss: 1.1222 - val_accuracy: 0.5977\n",
      "Epoch 4/40\n",
      "202/202 [==============================] - 199s 982ms/step - loss: 1.2692 - accuracy: 0.5375 - val_loss: 0.9512 - val_accuracy: 0.6428\n",
      "Epoch 5/40\n",
      "202/202 [==============================] - 202s 992ms/step - loss: 1.0189 - accuracy: 0.6435 - val_loss: 0.7437 - val_accuracy: 0.7273\n",
      "Epoch 6/40\n",
      "202/202 [==============================] - 201s 993ms/step - loss: 0.8343 - accuracy: 0.7145 - val_loss: 0.5375 - val_accuracy: 0.8002\n",
      "Epoch 7/40\n",
      "202/202 [==============================] - 200s 989ms/step - loss: 0.7074 - accuracy: 0.7572 - val_loss: 0.5451 - val_accuracy: 0.8055\n",
      "Epoch 8/40\n",
      "202/202 [==============================] - 201s 991ms/step - loss: 0.6265 - accuracy: 0.7833 - val_loss: 0.4596 - val_accuracy: 0.8520\n",
      "Epoch 9/40\n",
      "202/202 [==============================] - 201s 991ms/step - loss: 0.5639 - accuracy: 0.8062 - val_loss: 0.3593 - val_accuracy: 0.8739\n",
      "Epoch 10/40\n",
      "202/202 [==============================] - 201s 995ms/step - loss: 0.5045 - accuracy: 0.8274 - val_loss: 0.3201 - val_accuracy: 0.8842\n",
      "Epoch 11/40\n",
      "202/202 [==============================] - 203s 1s/step - loss: 0.4709 - accuracy: 0.8399 - val_loss: 0.2585 - val_accuracy: 0.9169\n",
      "Epoch 12/40\n",
      "202/202 [==============================] - 202s 998ms/step - loss: 0.4363 - accuracy: 0.8508 - val_loss: 0.2598 - val_accuracy: 0.9169\n",
      "Epoch 13/40\n",
      "202/202 [==============================] - 201s 993ms/step - loss: 0.4034 - accuracy: 0.8642 - val_loss: 0.3430 - val_accuracy: 0.8927\n",
      "Epoch 14/40\n",
      "202/202 [==============================] - 203s 1s/step - loss: 0.3803 - accuracy: 0.8731 - val_loss: 0.2452 - val_accuracy: 0.9169\n",
      "Epoch 15/40\n",
      "202/202 [==============================] - 200s 985ms/step - loss: 0.3604 - accuracy: 0.8789 - val_loss: 0.2239 - val_accuracy: 0.9289\n",
      "Epoch 16/40\n",
      "202/202 [==============================] - 200s 989ms/step - loss: 0.3410 - accuracy: 0.8863 - val_loss: 0.1943 - val_accuracy: 0.9343\n",
      "Epoch 17/40\n",
      "202/202 [==============================] - 199s 984ms/step - loss: 0.3169 - accuracy: 0.8935 - val_loss: 0.1849 - val_accuracy: 0.9441\n",
      "Epoch 18/40\n",
      "202/202 [==============================] - 199s 983ms/step - loss: 0.3236 - accuracy: 0.8898 - val_loss: 0.1941 - val_accuracy: 0.9392\n",
      "Epoch 19/40\n",
      "202/202 [==============================] - 200s 988ms/step - loss: 0.3009 - accuracy: 0.8993 - val_loss: 0.1765 - val_accuracy: 0.9414\n",
      "Epoch 20/40\n",
      "202/202 [==============================] - 199s 983ms/step - loss: 0.2833 - accuracy: 0.9067 - val_loss: 0.1399 - val_accuracy: 0.9584\n",
      "Epoch 21/40\n",
      "202/202 [==============================] - 201s 992ms/step - loss: 0.2752 - accuracy: 0.9099 - val_loss: 0.2738 - val_accuracy: 0.9070\n",
      "Epoch 22/40\n",
      "202/202 [==============================] - 200s 985ms/step - loss: 0.2660 - accuracy: 0.9101 - val_loss: 0.1255 - val_accuracy: 0.9598\n",
      "Epoch 23/40\n",
      "202/202 [==============================] - 199s 980ms/step - loss: 0.2619 - accuracy: 0.9140 - val_loss: 0.1533 - val_accuracy: 0.9473\n",
      "Epoch 24/40\n",
      "202/202 [==============================] - 201s 991ms/step - loss: 0.2583 - accuracy: 0.9132 - val_loss: 0.1432 - val_accuracy: 0.9508\n",
      "Epoch 25/40\n",
      "202/202 [==============================] - 200s 987ms/step - loss: 0.2504 - accuracy: 0.9168 - val_loss: 0.1361 - val_accuracy: 0.9566\n",
      "Epoch 26/40\n",
      "202/202 [==============================] - 201s 994ms/step - loss: 0.2328 - accuracy: 0.9245 - val_loss: 0.1339 - val_accuracy: 0.9616\n",
      "Epoch 27/40\n",
      "202/202 [==============================] - 200s 986ms/step - loss: 0.2360 - accuracy: 0.9225 - val_loss: 0.1166 - val_accuracy: 0.9620\n",
      "Epoch 28/40\n",
      "202/202 [==============================] - 201s 991ms/step - loss: 0.2252 - accuracy: 0.9248 - val_loss: 0.1332 - val_accuracy: 0.9580\n",
      "Epoch 29/40\n",
      "202/202 [==============================] - 201s 991ms/step - loss: 0.2221 - accuracy: 0.9274 - val_loss: 0.1200 - val_accuracy: 0.9642\n",
      "Epoch 30/40\n",
      "202/202 [==============================] - 203s 1s/step - loss: 0.2110 - accuracy: 0.9290 - val_loss: 0.1310 - val_accuracy: 0.9607\n",
      "Epoch 31/40\n",
      "202/202 [==============================] - 201s 990ms/step - loss: 0.2031 - accuracy: 0.9330 - val_loss: 0.1652 - val_accuracy: 0.9441\n",
      "Epoch 32/40\n",
      "202/202 [==============================] - 202s 996ms/step - loss: 0.2090 - accuracy: 0.9317 - val_loss: 0.1247 - val_accuracy: 0.9633\n",
      "Epoch 33/40\n",
      "202/202 [==============================] - 203s 1s/step - loss: 0.2030 - accuracy: 0.9334 - val_loss: 0.1289 - val_accuracy: 0.9593\n",
      "Epoch 34/40\n",
      "202/202 [==============================] - 203s 999ms/step - loss: 0.1960 - accuracy: 0.9355 - val_loss: 0.1089 - val_accuracy: 0.9660\n",
      "Epoch 35/40\n",
      "202/202 [==============================] - 203s 1s/step - loss: 0.2003 - accuracy: 0.9355 - val_loss: 0.1338 - val_accuracy: 0.9598\n",
      "Epoch 36/40\n",
      "202/202 [==============================] - 205s 1s/step - loss: 0.1852 - accuracy: 0.9398 - val_loss: 0.1229 - val_accuracy: 0.9598\n",
      "Epoch 37/40\n",
      "202/202 [==============================] - 201s 992ms/step - loss: 0.1918 - accuracy: 0.9367 - val_loss: 0.1020 - val_accuracy: 0.9700\n",
      "Epoch 38/40\n",
      "202/202 [==============================] - 201s 993ms/step - loss: 0.1883 - accuracy: 0.9391 - val_loss: 0.0826 - val_accuracy: 0.9723\n",
      "Epoch 39/40\n",
      "202/202 [==============================] - 201s 991ms/step - loss: 0.1780 - accuracy: 0.9414 - val_loss: 0.1019 - val_accuracy: 0.9736\n",
      "Epoch 40/40\n",
      "202/202 [==============================] - 199s 980ms/step - loss: 0.1877 - accuracy: 0.9383 - val_loss: 0.0853 - val_accuracy: 0.9745\n"
     ]
    }
   ],
   "source": [
    "# Let's train the model for 40 epochs and see how it performs\n",
    "# If you don't want to train the model just run the cell below\n",
    "# marked as \"Load First Model\" to load the pretrained model\n",
    "history = first_model.fit(train_generator,\n",
    "                              epochs=40,\n",
    "                              verbose=1,\n",
    "                              validation_data=validation_generator)"
   ]
  },
  {
   "cell_type": "code",
   "execution_count": 8,
   "id": "4c8f84cb",
   "metadata": {},
   "outputs": [
    {
     "name": "stdout",
     "output_type": "stream",
     "text": [
      "/Users/gil/Documents/Cursos/FourthBrain/Projects/State_Farm\n"
     ]
    }
   ],
   "source": [
    "# Get the project directory in other to save the model\n",
    "project_folder = os.getcwd()\n",
    "print(project_folder)"
   ]
  },
  {
   "cell_type": "code",
   "execution_count": 9,
   "id": "becc0afb",
   "metadata": {},
   "outputs": [
    {
     "name": "stderr",
     "output_type": "stream",
     "text": [
      "2021-07-15 14:14:39.995009: W tensorflow/python/util/util.cc:348] Sets are not currently considered sequences, but this may change in the future, so consider avoiding using them.\n"
     ]
    },
    {
     "name": "stdout",
     "output_type": "stream",
     "text": [
      "INFO:tensorflow:Assets written to: /Users/gil/Documents/Cursos/FourthBrain/Projects/State_Farm/first_model/40/assets\n"
     ]
    }
   ],
   "source": [
    "# Let's save the first model trained for 40 epochs\n",
    "first_model.save(os.path.join(project_folder, \"first_model/40\"))"
   ]
  },
  {
   "cell_type": "code",
   "execution_count": 175,
   "id": "35ef7249",
   "metadata": {},
   "outputs": [],
   "source": [
    "import seaborn as sns\n",
    "\n",
    "# Get the results on the training and validation data sets\n",
    "# for each training epoch and stack them together in columns\n",
    "results_first_model = np.vstack(\n",
    "    (\n",
    "        history.history[\"accuracy\"],\n",
    "        history.history[\"val_accuracy\"],\n",
    "        history.history[\"loss\"],\n",
    "        history.history[\"val_loss\"],\n",
    "    )\n",
    ").T\n",
    "\n",
    "# Create a Panda Dataframe from the first model results\n",
    "history_first_model_pd = pd.DataFrame(\n",
    "    {\n",
    "        \"Epochs\": range(1, results_first_model.shape[0] + 1),\n",
    "        \"Training Accuracy\": results_first_model[:, 0],\n",
    "        \"Validation Accuracy\": results_first_model[:, 1],\n",
    "        \"Training Loss\": results_first_model[:, 2],\n",
    "        \"Validation Loss\": results_first_model[:, 3],\n",
    "    }\n",
    ")\n",
    "\n",
    "# Function to Plot the Results\n",
    "def plotResults(results):\n",
    "    # Pivot the accuracy values based on Epochs\n",
    "    accuracy_pivot = pd.melt(\n",
    "        results,\n",
    "        id_vars=[\"Epochs\"],\n",
    "        value_vars=[\"Training Accuracy\", \"Validation Accuracy\"],\n",
    "        var_name=\"Sets\",\n",
    "        value_name=\"Accuracy\",\n",
    "    )\n",
    "\n",
    "    # Pivot the loss values based on Epochs\n",
    "    loss_pivot = pd.melt(\n",
    "        results,\n",
    "        id_vars=[\"Epochs\"],\n",
    "        value_vars=[\"Training Loss\", \"Validation Loss\"],\n",
    "        var_name=\"Sets\",\n",
    "        value_name=\"Loss\",\n",
    "    )\n",
    "\n",
    "    # Let's now plot the results\n",
    "    sns.set_theme(style=\"whitegrid\")\n",
    "\n",
    "    f, axs = plt.subplots(2, 1, figsize=(8, 8), sharex=True)\n",
    "\n",
    "    # Plot the Accuracy curve\n",
    "    axs[0].title.set_text(\"Accuracy per Epoch\")\n",
    "    sns.lineplot(\n",
    "        data=accuracy_pivot,\n",
    "        x=\"Epochs\",\n",
    "        y=\"Accuracy\",\n",
    "        hue=\"Sets\",\n",
    "        style=\"Sets\",\n",
    "        ax=axs[0],\n",
    "    )\n",
    "\n",
    "    # Plot the Loss curve\n",
    "    axs[1].title.set_text(\"Loss per Epoch\")\n",
    "    sns.lineplot(\n",
    "        data=loss_pivot, x=\"Epochs\", y=\"Loss\", hue=\"Sets\", style=\"Sets\", ax=axs[1]\n",
    "    )\n",
    "\n",
    "    f.tight_layout()"
   ]
  },
  {
   "cell_type": "code",
   "execution_count": 176,
   "id": "1b7ef066",
   "metadata": {},
   "outputs": [
    {
     "data": {
      "image/png": "[encoded data removed]",
      "text/plain": [
       "<Figure size 576x576 with 2 Axes>"
      ]
     },
     "metadata": {},
     "output_type": "display_data"
    }
   ],
   "source": [
    "# Plot the results for the First Model\n",
    "plotResults(history_first_model_pd)"
   ]
  },
  {
   "cell_type": "markdown",
   "id": "c7c456be",
   "metadata": {},
   "source": [
    "***Even though it's a considerably simple CNN model with 5 Conv Layers followed by it's MaxPooling layers and two final Dense Layers, it achieves a 97.45% accuracy on the validation data.***"
   ]
  },
  {
   "cell_type": "code",
   "execution_count": null,
   "id": "51b7e8b3",
   "metadata": {},
   "outputs": [],
   "source": [
    "# Load the First Model\n",
    "# In case you want to run the predictions on the savedModel\n",
    "\n",
    "first_model = tf.keras.models.load_model(os.path.join(project_folder, \"first_model/40\")"
   ]
  },
  {
   "cell_type": "code",
   "execution_count": 125,
   "id": "febdbd8e",
   "metadata": {},
   "outputs": [
    {
     "name": "stdout",
     "output_type": "stream",
     "text": [
      "Found 2237 images belonging to 10 classes.\n"
     ]
    }
   ],
   "source": [
    "# Let's try to predict using the trained model and passing the Validation ImageDataGenerator\n",
    "# so we can calculate some other metrics (ex.: Top-1, Top-5 accuracy, Confusion Matrix)\n",
    "\n",
    "# First we need to create a new validation_generator_test without shuffling the data during test time\n",
    "# We cannot reuse the previous generator because it has shuffle activated by default for training\n",
    "\n",
    "validation_generator_test = validation_datagen.flow_from_directory(\n",
    "    VALIDATION_DIR, target_size=(320, 240), batch_size=100, class_mode=\"categorical\", shuffle=False)\n",
    "\n",
    "Y_pred = first_model.predict(validation_generator_test)"
   ]
  },
  {
   "cell_type": "code",
   "execution_count": 126,
   "id": "8a337235",
   "metadata": {},
   "outputs": [
    {
     "name": "stdout",
     "output_type": "stream",
     "text": [
      "The Predictions shape is:  (2237,)\n",
      "The True Labels shape is:  (2237,)\n"
     ]
    }
   ],
   "source": [
    "# Then we convert the probabilities to a single integer that\n",
    "# describes the predicted class \n",
    "\n",
    "Y_pred_converted = np.argmax(Y_pred, axis=1)\n",
    "print(\"The Predictions shape is: \", Y_pred_converted.shape)\n",
    "print(\"The True Labels shape is: \", validation_generator.labels.shape)"
   ]
  },
  {
   "cell_type": "code",
   "execution_count": 129,
   "id": "2e4d9a06",
   "metadata": {},
   "outputs": [
    {
     "data": {
      "image/png": "[encoded data removed]",
      "text/plain": [
       "<Figure size 720x720 with 2 Axes>"
      ]
     },
     "metadata": {},
     "output_type": "display_data"
    }
   ],
   "source": [
    "from sklearn.metrics import confusion_matrix\n",
    "\n",
    "# Let's calculate the Confusion Matrix for our predictions on the Validation Set\n",
    "cm = confusion_matrix(validation_generator.labels, Y_pred_converted)\n",
    "\n",
    "plt.figure(figsize=(10,10))\n",
    "sns.heatmap(cm, annot=True, fmt='d', square=True)\n",
    "plt.show()"
   ]
  },
  {
   "cell_type": "code",
   "execution_count": 132,
   "id": "640d6b1d",
   "metadata": {},
   "outputs": [
    {
     "name": "stdout",
     "output_type": "stream",
     "text": [
      "The First Model Top-1 Accuracy is:  0.9754135\n",
      "The First Model Top-5 Accuracy is:  0.99910593\n"
     ]
    }
   ],
   "source": [
    "# Let's calculate the Top-1 and Top-5 Accuracies\n",
    "# We need to convert the Labels for the Validation DataImageGenerator into One Hot enconding\n",
    "\n",
    "Y_true_one_hot = tf.one_hot(validation_generator.labels, depth = 10)\n",
    "\n",
    "# Using Keras TopKCategoricalAccuracy function to Calculate the TOP-1 Accuracy\n",
    "top1_first_model = tf.keras.metrics.TopKCategoricalAccuracy(k=1)\n",
    "top1_first_model.update_state(Y_true_one_hot, Y_pred)\n",
    "\n",
    "# Using Keras TopKCategoricalAccuracy function to Calculate the TOP-5 Accuracy\n",
    "top5_first_model = tf.keras.metrics.TopKCategoricalAccuracy(k=5)\n",
    "top5_first_model.update_state(Y_true_one_hot, Y_pred)\n",
    "\n",
    "print(\"The First Model Top-1 Accuracy is: \", top1_first_model.result().numpy())\n",
    "print(\"The First Model Top-5 Accuracy is: \", top5_first_model.result().numpy())"
   ]
  },
  {
   "cell_type": "markdown",
   "id": "6d025b92",
   "metadata": {},
   "source": [
    "***After calculating some other metrics such as the Confusion Matrix, Top-1 and Top-5 Accuracies, we can notice that the model is performing considerably well in all of them!***"
   ]
  },
  {
   "cell_type": "markdown",
   "id": "b3fbcae5",
   "metadata": {},
   "source": [
    "## 5) Let's now start playing with bigger models!\n",
    "\n",
    "We're going to use some famous CNN architecures for image classification. \n",
    "\n",
    "### 5.1) Let's try some Transfer Learning first\n",
    "\n",
    "We'll use an Inception V3 model from Tensorflow Hub to get a Feature Vector Extractor and then we add the final layers to match the 10 classes that we have."
   ]
  },
  {
   "cell_type": "code",
   "execution_count": 139,
   "id": "0fce1676",
   "metadata": {},
   "outputs": [
    {
     "name": "stdout",
     "output_type": "stream",
     "text": [
      "Model: \"sequential_3\"\n",
      "_________________________________________________________________\n",
      "Layer (type)                 Output Shape              Param #   \n",
      "=================================================================\n",
      "keras_layer_2 (KerasLayer)   (None, 2048)              21802784  \n",
      "_________________________________________________________________\n",
      "dense_3 (Dense)              (None, 10)                20490     \n",
      "=================================================================\n",
      "Total params: 21,823,274\n",
      "Trainable params: 20,490\n",
      "Non-trainable params: 21,802,784\n",
      "_________________________________________________________________\n"
     ]
    }
   ],
   "source": [
    "import tensorflow_hub as hub\n",
    "\n",
    "# The number of classes on our State Farm Dataset\n",
    "num_classes = 10\n",
    "\n",
    "# Let's use a Inception V3 model trained on ImageNet as our feature vector extractor\n",
    "feature_extractor_model = (\n",
    "    \"https://tfhub.dev/google/imagenet/inception_v3/feature_vector/5\"\n",
    ")\n",
    "\n",
    "# We create a new model using the first\n",
    "# Set trainable=False so we don't retrain the layers from Inception\n",
    "# We just train our final output dense layer to predict between our 10 classes\n",
    "inceptionV3_pretrained_model = tf.keras.Sequential(\n",
    "    [\n",
    "        hub.KerasLayer(feature_extractor_model, trainable=False),\n",
    "        tf.keras.layers.Dense(num_classes, activation=\"softmax\"),\n",
    "    ]\n",
    ")\n",
    "inceptionV3_pretrained_model.build([None, 299, 299, 3])  # Batch input shape.\n",
    "inceptionV3_pretrained_model.summary()"
   ]
  },
  {
   "cell_type": "code",
   "execution_count": 140,
   "id": "d81c0748",
   "metadata": {},
   "outputs": [],
   "source": [
    "# Compile the model\n",
    "inceptionV3_pretrained_model.compile(\n",
    "    optimizer=\"Adam\", loss=\"categorical_crossentropy\", metrics=[\"accuracy\"]\n",
    ")"
   ]
  },
  {
   "cell_type": "code",
   "execution_count": 141,
   "id": "7c655cce",
   "metadata": {},
   "outputs": [
    {
     "name": "stdout",
     "output_type": "stream",
     "text": [
      "Found 20187 images belonging to 10 classes.\n",
      "Found 2237 images belonging to 10 classes.\n"
     ]
    }
   ],
   "source": [
    "# Creating a new flow_from_directory for the training data\n",
    "# adjusting the input dimensions to 299x299\n",
    "train_generator_inception = train_datagen.flow_from_directory(\n",
    "    TRAINING_DIR, target_size=(299, 299), batch_size=100, class_mode=\"categorical\"\n",
    ")\n",
    "\n",
    "# Creating a new flow_from_directory for the validation data\n",
    "# adjusting the input dimensions to 299x299\n",
    "validation_generator_inception = validation_datagen.flow_from_directory(\n",
    "    VALIDATION_DIR, target_size=(299, 299), batch_size=100, class_mode=\"categorical\"\n",
    ")"
   ]
  },
  {
   "cell_type": "code",
   "execution_count": 142,
   "id": "d3bc5e0e",
   "metadata": {},
   "outputs": [
    {
     "name": "stdout",
     "output_type": "stream",
     "text": [
      "Epoch 1/10\n"
     ]
    },
    {
     "name": "stderr",
     "output_type": "stream",
     "text": [
      "2021-07-16 20:55:31.809153: I tensorflow/core/grappler/optimizers/custom_graph_optimizer_registry.cc:112] Plugin optimizer for device_type GPU is enabled.\n"
     ]
    },
    {
     "name": "stdout",
     "output_type": "stream",
     "text": [
      "202/202 [==============================] - ETA: 0s - loss: 1.7703 - accuracy: 0.4087"
     ]
    },
    {
     "name": "stderr",
     "output_type": "stream",
     "text": [
      "2021-07-16 21:25:02.270883: I tensorflow/core/grappler/optimizers/custom_graph_optimizer_registry.cc:112] Plugin optimizer for device_type GPU is enabled.\n"
     ]
    },
    {
     "name": "stdout",
     "output_type": "stream",
     "text": [
      "202/202 [==============================] - 1939s 10s/step - loss: 1.7703 - accuracy: 0.4087 - val_loss: 1.4306 - val_accuracy: 0.5472\n",
      "Epoch 2/10\n",
      "202/202 [==============================] - 2035s 10s/step - loss: 1.2830 - accuracy: 0.6032 - val_loss: 1.1230 - val_accuracy: 0.6853\n",
      "Epoch 3/10\n",
      "202/202 [==============================] - 2248s 11s/step - loss: 1.1143 - accuracy: 0.6510 - val_loss: 1.0435 - val_accuracy: 0.6956\n",
      "Epoch 4/10\n",
      "202/202 [==============================] - 1946s 10s/step - loss: 1.0077 - accuracy: 0.6833 - val_loss: 0.8974 - val_accuracy: 0.7515\n",
      "Epoch 5/10\n",
      "202/202 [==============================] - 1911s 9s/step - loss: 0.9417 - accuracy: 0.7063 - val_loss: 0.8492 - val_accuracy: 0.7702\n",
      "Epoch 6/10\n",
      "202/202 [==============================] - 1718s 9s/step - loss: 0.8709 - accuracy: 0.7303 - val_loss: 0.8128 - val_accuracy: 0.7667\n",
      "Epoch 7/10\n",
      "202/202 [==============================] - 1909s 9s/step - loss: 0.8254 - accuracy: 0.7444 - val_loss: 0.7686 - val_accuracy: 0.7702\n",
      "Epoch 8/10\n",
      "202/202 [==============================] - 1941s 10s/step - loss: 0.7991 - accuracy: 0.7539 - val_loss: 0.7244 - val_accuracy: 0.7890\n",
      "Epoch 9/10\n",
      "202/202 [==============================] - 1860s 9s/step - loss: 0.7703 - accuracy: 0.7607 - val_loss: 0.6895 - val_accuracy: 0.8042\n",
      "Epoch 10/10\n",
      "202/202 [==============================] - 1792s 9s/step - loss: 0.7448 - accuracy: 0.7670 - val_loss: 0.6789 - val_accuracy: 0.8002\n"
     ]
    }
   ],
   "source": [
    "history_inception = inceptionV3_pretrained_model.fit(\n",
    "    train_generator_inception,\n",
    "    epochs=10,\n",
    "    verbose=1,\n",
    "    validation_data=validation_generator_inception,\n",
    ")"
   ]
  },
  {
   "cell_type": "code",
   "execution_count": 143,
   "id": "b8449d58",
   "metadata": {},
   "outputs": [
    {
     "name": "stdout",
     "output_type": "stream",
     "text": [
      "INFO:tensorflow:Assets written to: /Users/gil/Documents/Cursos/FourthBrain/Projects/State_Farm/inceptionV3_pretrained_model/10/assets\n"
     ]
    },
    {
     "name": "stderr",
     "output_type": "stream",
     "text": [
      "INFO:tensorflow:Assets written to: /Users/gil/Documents/Cursos/FourthBrain/Projects/State_Farm/inceptionV3_pretrained_model/10/assets\n"
     ]
    }
   ],
   "source": [
    "# Let's save the inception model trained for 10 epochs\n",
    "inceptionV3_pretrained_model.save(os.path.join(project_folder, \"inceptionV3_pretrained_model/10\"))"
   ]
  },
  {
   "cell_type": "code",
   "execution_count": 150,
   "id": "36d5563c",
   "metadata": {},
   "outputs": [
    {
     "name": "stdout",
     "output_type": "stream",
     "text": [
      "Epoch 1/40\n",
      "202/202 [==============================] - 2240s 11s/step - loss: 0.7151 - accuracy: 0.7769 - val_loss: 0.6599 - val_accuracy: 0.8145\n",
      "Epoch 2/40\n",
      "202/202 [==============================] - 2729s 13s/step - loss: 0.6903 - accuracy: 0.7842 - val_loss: 0.6651 - val_accuracy: 0.8069\n",
      "Epoch 3/40\n",
      "202/202 [==============================] - 2590s 13s/step - loss: 0.6854 - accuracy: 0.7876 - val_loss: 0.6402 - val_accuracy: 0.8042\n",
      "Epoch 4/40\n",
      "202/202 [==============================] - 2378s 12s/step - loss: 0.6665 - accuracy: 0.7930 - val_loss: 0.6277 - val_accuracy: 0.8158\n",
      "Epoch 5/40\n",
      "202/202 [==============================] - 2199s 11s/step - loss: 0.6524 - accuracy: 0.7988 - val_loss: 0.5626 - val_accuracy: 0.8359\n",
      "Epoch 6/40\n",
      "202/202 [==============================] - 2254s 11s/step - loss: 0.6430 - accuracy: 0.7981 - val_loss: 0.5943 - val_accuracy: 0.8163\n",
      "Epoch 7/40\n",
      "202/202 [==============================] - 2291s 11s/step - loss: 0.6195 - accuracy: 0.8064 - val_loss: 0.5352 - val_accuracy: 0.8440\n",
      "Epoch 8/40\n",
      "202/202 [==============================] - 2344s 12s/step - loss: 0.6127 - accuracy: 0.8079 - val_loss: 0.5815 - val_accuracy: 0.8261\n",
      "Epoch 9/40\n",
      "202/202 [==============================] - 2268s 11s/step - loss: 0.6001 - accuracy: 0.8125 - val_loss: 0.5493 - val_accuracy: 0.8266\n",
      "Epoch 10/40\n",
      "202/202 [==============================] - 2147s 11s/step - loss: 0.5944 - accuracy: 0.8148 - val_loss: 0.5156 - val_accuracy: 0.8502\n",
      "Epoch 11/40\n",
      "202/202 [==============================] - 1987s 10s/step - loss: 0.5878 - accuracy: 0.8173 - val_loss: 0.5276 - val_accuracy: 0.8435\n",
      "Epoch 12/40\n",
      "202/202 [==============================] - 2320s 11s/step - loss: 0.5726 - accuracy: 0.8211 - val_loss: 0.5125 - val_accuracy: 0.8507\n",
      "Epoch 13/40\n",
      "202/202 [==============================] - 2106s 10s/step - loss: 0.5793 - accuracy: 0.8161 - val_loss: 0.4947 - val_accuracy: 0.8534\n",
      "Epoch 14/40\n",
      "202/202 [==============================] - 2245s 11s/step - loss: 0.5585 - accuracy: 0.8260 - val_loss: 0.4925 - val_accuracy: 0.8561\n",
      "Epoch 15/40\n",
      "202/202 [==============================] - 2385s 12s/step - loss: 0.5545 - accuracy: 0.8274 - val_loss: 0.4778 - val_accuracy: 0.8605\n",
      "Epoch 16/40\n",
      "202/202 [==============================] - 2378s 12s/step - loss: 0.5538 - accuracy: 0.8256 - val_loss: 0.5079 - val_accuracy: 0.8453\n",
      "Epoch 17/40\n",
      "202/202 [==============================] - 2343s 12s/step - loss: 0.5454 - accuracy: 0.8266 - val_loss: 0.4871 - val_accuracy: 0.8511\n",
      "Epoch 18/40\n",
      "202/202 [==============================] - 2572s 13s/step - loss: 0.5244 - accuracy: 0.8349 - val_loss: 0.4911 - val_accuracy: 0.8453\n",
      "Epoch 19/40\n",
      "202/202 [==============================] - 2518s 12s/step - loss: 0.5295 - accuracy: 0.8347 - val_loss: 0.4870 - val_accuracy: 0.8498\n",
      "Epoch 20/40\n",
      "202/202 [==============================] - 2823s 14s/step - loss: 0.5346 - accuracy: 0.8314 - val_loss: 0.4486 - val_accuracy: 0.8619\n",
      "Epoch 21/40\n",
      "202/202 [==============================] - 2830s 14s/step - loss: 0.5235 - accuracy: 0.8319 - val_loss: 0.4635 - val_accuracy: 0.8511\n",
      "Epoch 22/40\n",
      "202/202 [==============================] - 2800s 14s/step - loss: 0.5142 - accuracy: 0.8385 - val_loss: 0.5130 - val_accuracy: 0.8382\n",
      "Epoch 23/40\n",
      "202/202 [==============================] - 2801s 14s/step - loss: 0.5111 - accuracy: 0.8366 - val_loss: 0.4589 - val_accuracy: 0.8578\n",
      "Epoch 24/40\n",
      "202/202 [==============================] - 2963s 15s/step - loss: 0.5050 - accuracy: 0.8408 - val_loss: 0.5027 - val_accuracy: 0.8328\n",
      "Epoch 25/40\n",
      "202/202 [==============================] - 2702s 13s/step - loss: 0.5046 - accuracy: 0.8377 - val_loss: 0.4655 - val_accuracy: 0.8538\n",
      "Epoch 26/40\n",
      "202/202 [==============================] - 2777s 14s/step - loss: 0.5026 - accuracy: 0.8406 - val_loss: 0.4471 - val_accuracy: 0.8561\n",
      "Epoch 27/40\n",
      "202/202 [==============================] - 2860s 14s/step - loss: 0.5048 - accuracy: 0.8393 - val_loss: 0.4475 - val_accuracy: 0.8637\n",
      "Epoch 28/40\n",
      "202/202 [==============================] - 3148s 16s/step - loss: 0.4943 - accuracy: 0.8460 - val_loss: 0.4682 - val_accuracy: 0.8525\n",
      "Epoch 29/40\n",
      "  4/202 [..............................] - ETA: 42:24 - loss: 0.5289 - accuracy: 0.8350"
     ]
    },
    {
     "ename": "KeyboardInterrupt",
     "evalue": "",
     "output_type": "error",
     "traceback": [
      "\u001b[0;31m---------------------------------------------------------------------------\u001b[0m",
      "\u001b[0;31mKeyboardInterrupt\u001b[0m                         Traceback (most recent call last)",
      "\u001b[0;32m/var/folders/tx/dmz4lmg12gvc8hcrvj54ss0h0000gn/T/ipykernel_45732/4104550499.py\u001b[0m in \u001b[0;36m<module>\u001b[0;34m\u001b[0m\n\u001b[0;32m----> 1\u001b[0;31m history_inception_2 = inceptionV3_pretrained_model.fit(\n\u001b[0m\u001b[1;32m      2\u001b[0m     \u001b[0mtrain_generator_inception\u001b[0m\u001b[0;34m,\u001b[0m\u001b[0;34m\u001b[0m\u001b[0;34m\u001b[0m\u001b[0m\n\u001b[1;32m      3\u001b[0m     \u001b[0mepochs\u001b[0m\u001b[0;34m=\u001b[0m\u001b[0;36m40\u001b[0m\u001b[0;34m,\u001b[0m\u001b[0;34m\u001b[0m\u001b[0;34m\u001b[0m\u001b[0m\n\u001b[1;32m      4\u001b[0m     \u001b[0mverbose\u001b[0m\u001b[0;34m=\u001b[0m\u001b[0;36m1\u001b[0m\u001b[0;34m,\u001b[0m\u001b[0;34m\u001b[0m\u001b[0;34m\u001b[0m\u001b[0m\n\u001b[1;32m      5\u001b[0m     \u001b[0mvalidation_data\u001b[0m\u001b[0;34m=\u001b[0m\u001b[0mvalidation_generator_inception\u001b[0m\u001b[0;34m,\u001b[0m\u001b[0;34m\u001b[0m\u001b[0;34m\u001b[0m\u001b[0m\n",
      "\u001b[0;32m~/miniforge3/envs/state_farm/lib/python3.9/site-packages/tensorflow/python/keras/engine/training.py\u001b[0m in \u001b[0;36mfit\u001b[0;34m(self, x, y, batch_size, epochs, verbose, callbacks, validation_split, validation_data, shuffle, class_weight, sample_weight, initial_epoch, steps_per_epoch, validation_steps, validation_batch_size, validation_freq, max_queue_size, workers, use_multiprocessing)\u001b[0m\n\u001b[1;32m   1181\u001b[0m                 _r=1):\n\u001b[1;32m   1182\u001b[0m               \u001b[0mcallbacks\u001b[0m\u001b[0;34m.\u001b[0m\u001b[0mon_train_batch_begin\u001b[0m\u001b[0;34m(\u001b[0m\u001b[0mstep\u001b[0m\u001b[0;34m)\u001b[0m\u001b[0;34m\u001b[0m\u001b[0;34m\u001b[0m\u001b[0m\n\u001b[0;32m-> 1183\u001b[0;31m               \u001b[0mtmp_logs\u001b[0m \u001b[0;34m=\u001b[0m \u001b[0mself\u001b[0m\u001b[0;34m.\u001b[0m\u001b[0mtrain_function\u001b[0m\u001b[0;34m(\u001b[0m\u001b[0miterator\u001b[0m\u001b[0;34m)\u001b[0m\u001b[0;34m\u001b[0m\u001b[0;34m\u001b[0m\u001b[0m\n\u001b[0m\u001b[1;32m   1184\u001b[0m               \u001b[0;32mif\u001b[0m \u001b[0mdata_handler\u001b[0m\u001b[0;34m.\u001b[0m\u001b[0mshould_sync\u001b[0m\u001b[0;34m:\u001b[0m\u001b[0;34m\u001b[0m\u001b[0;34m\u001b[0m\u001b[0m\n\u001b[1;32m   1185\u001b[0m                 \u001b[0mcontext\u001b[0m\u001b[0;34m.\u001b[0m\u001b[0masync_wait\u001b[0m\u001b[0;34m(\u001b[0m\u001b[0;34m)\u001b[0m\u001b[0;34m\u001b[0m\u001b[0;34m\u001b[0m\u001b[0m\n",
      "\u001b[0;32m~/miniforge3/envs/state_farm/lib/python3.9/site-packages/tensorflow/python/eager/def_function.py\u001b[0m in \u001b[0;36m__call__\u001b[0;34m(self, *args, **kwds)\u001b[0m\n\u001b[1;32m    887\u001b[0m \u001b[0;34m\u001b[0m\u001b[0m\n\u001b[1;32m    888\u001b[0m       \u001b[0;32mwith\u001b[0m \u001b[0mOptionalXlaContext\u001b[0m\u001b[0;34m(\u001b[0m\u001b[0mself\u001b[0m\u001b[0;34m.\u001b[0m\u001b[0m_jit_compile\u001b[0m\u001b[0;34m)\u001b[0m\u001b[0;34m:\u001b[0m\u001b[0;34m\u001b[0m\u001b[0;34m\u001b[0m\u001b[0m\n\u001b[0;32m--> 889\u001b[0;31m         \u001b[0mresult\u001b[0m \u001b[0;34m=\u001b[0m \u001b[0mself\u001b[0m\u001b[0;34m.\u001b[0m\u001b[0m_call\u001b[0m\u001b[0;34m(\u001b[0m\u001b[0;34m*\u001b[0m\u001b[0margs\u001b[0m\u001b[0;34m,\u001b[0m \u001b[0;34m**\u001b[0m\u001b[0mkwds\u001b[0m\u001b[0;34m)\u001b[0m\u001b[0;34m\u001b[0m\u001b[0;34m\u001b[0m\u001b[0m\n\u001b[0m\u001b[1;32m    890\u001b[0m \u001b[0;34m\u001b[0m\u001b[0m\n\u001b[1;32m    891\u001b[0m       \u001b[0mnew_tracing_count\u001b[0m \u001b[0;34m=\u001b[0m \u001b[0mself\u001b[0m\u001b[0;34m.\u001b[0m\u001b[0mexperimental_get_tracing_count\u001b[0m\u001b[0;34m(\u001b[0m\u001b[0;34m)\u001b[0m\u001b[0;34m\u001b[0m\u001b[0;34m\u001b[0m\u001b[0m\n",
      "\u001b[0;32m~/miniforge3/envs/state_farm/lib/python3.9/site-packages/tensorflow/python/eager/def_function.py\u001b[0m in \u001b[0;36m_call\u001b[0;34m(self, *args, **kwds)\u001b[0m\n\u001b[1;32m    915\u001b[0m       \u001b[0;31m# In this case we have created variables on the first call, so we run the\u001b[0m\u001b[0;34m\u001b[0m\u001b[0;34m\u001b[0m\u001b[0;34m\u001b[0m\u001b[0m\n\u001b[1;32m    916\u001b[0m       \u001b[0;31m# defunned version which is guaranteed to never create variables.\u001b[0m\u001b[0;34m\u001b[0m\u001b[0;34m\u001b[0m\u001b[0;34m\u001b[0m\u001b[0m\n\u001b[0;32m--> 917\u001b[0;31m       \u001b[0;32mreturn\u001b[0m \u001b[0mself\u001b[0m\u001b[0;34m.\u001b[0m\u001b[0m_stateless_fn\u001b[0m\u001b[0;34m(\u001b[0m\u001b[0;34m*\u001b[0m\u001b[0margs\u001b[0m\u001b[0;34m,\u001b[0m \u001b[0;34m**\u001b[0m\u001b[0mkwds\u001b[0m\u001b[0;34m)\u001b[0m  \u001b[0;31m# pylint: disable=not-callable\u001b[0m\u001b[0;34m\u001b[0m\u001b[0;34m\u001b[0m\u001b[0m\n\u001b[0m\u001b[1;32m    918\u001b[0m     \u001b[0;32melif\u001b[0m \u001b[0mself\u001b[0m\u001b[0;34m.\u001b[0m\u001b[0m_stateful_fn\u001b[0m \u001b[0;32mis\u001b[0m \u001b[0;32mnot\u001b[0m \u001b[0;32mNone\u001b[0m\u001b[0;34m:\u001b[0m\u001b[0;34m\u001b[0m\u001b[0;34m\u001b[0m\u001b[0m\n\u001b[1;32m    919\u001b[0m       \u001b[0;31m# Release the lock early so that multiple threads can perform the call\u001b[0m\u001b[0;34m\u001b[0m\u001b[0;34m\u001b[0m\u001b[0;34m\u001b[0m\u001b[0m\n",
      "\u001b[0;32m~/miniforge3/envs/state_farm/lib/python3.9/site-packages/tensorflow/python/eager/function.py\u001b[0m in \u001b[0;36m__call__\u001b[0;34m(self, *args, **kwargs)\u001b[0m\n\u001b[1;32m   3021\u001b[0m       (graph_function,\n\u001b[1;32m   3022\u001b[0m        filtered_flat_args) = self._maybe_define_function(args, kwargs)\n\u001b[0;32m-> 3023\u001b[0;31m     return graph_function._call_flat(\n\u001b[0m\u001b[1;32m   3024\u001b[0m         filtered_flat_args, captured_inputs=graph_function.captured_inputs)  # pylint: disable=protected-access\n\u001b[1;32m   3025\u001b[0m \u001b[0;34m\u001b[0m\u001b[0m\n",
      "\u001b[0;32m~/miniforge3/envs/state_farm/lib/python3.9/site-packages/tensorflow/python/eager/function.py\u001b[0m in \u001b[0;36m_call_flat\u001b[0;34m(self, args, captured_inputs, cancellation_manager)\u001b[0m\n\u001b[1;32m   1958\u001b[0m         and executing_eagerly):\n\u001b[1;32m   1959\u001b[0m       \u001b[0;31m# No tape is watching; skip to running the function.\u001b[0m\u001b[0;34m\u001b[0m\u001b[0;34m\u001b[0m\u001b[0;34m\u001b[0m\u001b[0m\n\u001b[0;32m-> 1960\u001b[0;31m       return self._build_call_outputs(self._inference_function.call(\n\u001b[0m\u001b[1;32m   1961\u001b[0m           ctx, args, cancellation_manager=cancellation_manager))\n\u001b[1;32m   1962\u001b[0m     forward_backward = self._select_forward_and_backward_functions(\n",
      "\u001b[0;32m~/miniforge3/envs/state_farm/lib/python3.9/site-packages/tensorflow/python/eager/function.py\u001b[0m in \u001b[0;36mcall\u001b[0;34m(self, ctx, args, cancellation_manager)\u001b[0m\n\u001b[1;32m    589\u001b[0m       \u001b[0;32mwith\u001b[0m \u001b[0m_InterpolateFunctionError\u001b[0m\u001b[0;34m(\u001b[0m\u001b[0mself\u001b[0m\u001b[0;34m)\u001b[0m\u001b[0;34m:\u001b[0m\u001b[0;34m\u001b[0m\u001b[0;34m\u001b[0m\u001b[0m\n\u001b[1;32m    590\u001b[0m         \u001b[0;32mif\u001b[0m \u001b[0mcancellation_manager\u001b[0m \u001b[0;32mis\u001b[0m \u001b[0;32mNone\u001b[0m\u001b[0;34m:\u001b[0m\u001b[0;34m\u001b[0m\u001b[0;34m\u001b[0m\u001b[0m\n\u001b[0;32m--> 591\u001b[0;31m           outputs = execute.execute(\n\u001b[0m\u001b[1;32m    592\u001b[0m               \u001b[0mstr\u001b[0m\u001b[0;34m(\u001b[0m\u001b[0mself\u001b[0m\u001b[0;34m.\u001b[0m\u001b[0msignature\u001b[0m\u001b[0;34m.\u001b[0m\u001b[0mname\u001b[0m\u001b[0;34m)\u001b[0m\u001b[0;34m,\u001b[0m\u001b[0;34m\u001b[0m\u001b[0;34m\u001b[0m\u001b[0m\n\u001b[1;32m    593\u001b[0m               \u001b[0mnum_outputs\u001b[0m\u001b[0;34m=\u001b[0m\u001b[0mself\u001b[0m\u001b[0;34m.\u001b[0m\u001b[0m_num_outputs\u001b[0m\u001b[0;34m,\u001b[0m\u001b[0;34m\u001b[0m\u001b[0;34m\u001b[0m\u001b[0m\n",
      "\u001b[0;32m~/miniforge3/envs/state_farm/lib/python3.9/site-packages/tensorflow/python/eager/execute.py\u001b[0m in \u001b[0;36mquick_execute\u001b[0;34m(op_name, num_outputs, inputs, attrs, ctx, name)\u001b[0m\n\u001b[1;32m     57\u001b[0m   \u001b[0;32mtry\u001b[0m\u001b[0;34m:\u001b[0m\u001b[0;34m\u001b[0m\u001b[0;34m\u001b[0m\u001b[0m\n\u001b[1;32m     58\u001b[0m     \u001b[0mctx\u001b[0m\u001b[0;34m.\u001b[0m\u001b[0mensure_initialized\u001b[0m\u001b[0;34m(\u001b[0m\u001b[0;34m)\u001b[0m\u001b[0;34m\u001b[0m\u001b[0;34m\u001b[0m\u001b[0m\n\u001b[0;32m---> 59\u001b[0;31m     tensors = pywrap_tfe.TFE_Py_Execute(ctx._handle, device_name, op_name,\n\u001b[0m\u001b[1;32m     60\u001b[0m                                         inputs, attrs, num_outputs)\n\u001b[1;32m     61\u001b[0m   \u001b[0;32mexcept\u001b[0m \u001b[0mcore\u001b[0m\u001b[0;34m.\u001b[0m\u001b[0m_NotOkStatusException\u001b[0m \u001b[0;32mas\u001b[0m \u001b[0me\u001b[0m\u001b[0;34m:\u001b[0m\u001b[0;34m\u001b[0m\u001b[0;34m\u001b[0m\u001b[0m\n",
      "\u001b[0;31mKeyboardInterrupt\u001b[0m: "
     ]
    }
   ],
   "source": [
    "history_inception_2 = inceptionV3_pretrained_model.fit(\n",
    "    train_generator_inception,\n",
    "    epochs=40,\n",
    "    verbose=1,\n",
    "    validation_data=validation_generator_inception,\n",
    ")"
   ]
  },
  {
   "cell_type": "code",
   "execution_count": 151,
   "id": "b52e5d84",
   "metadata": {},
   "outputs": [
    {
     "name": "stdout",
     "output_type": "stream",
     "text": [
      "INFO:tensorflow:Assets written to: /Users/gil/Documents/Cursos/FourthBrain/Projects/State_Farm/inceptionV3_pretrained_model/28/assets\n"
     ]
    },
    {
     "name": "stderr",
     "output_type": "stream",
     "text": [
      "INFO:tensorflow:Assets written to: /Users/gil/Documents/Cursos/FourthBrain/Projects/State_Farm/inceptionV3_pretrained_model/28/assets\n"
     ]
    }
   ],
   "source": [
    "inceptionV3_pretrained_model.save(os.path.join(project_folder, \"inceptionV3_pretrained_model/28\"))"
   ]
  },
  {
   "cell_type": "code",
   "execution_count": 169,
   "id": "21d41319",
   "metadata": {},
   "outputs": [
    {
     "data": {
      "text/html": [
       "<div>\n",
       "<style scoped>\n",
       "    .dataframe tbody tr th:only-of-type {\n",
       "        vertical-align: middle;\n",
       "    }\n",
       "\n",
       "    .dataframe tbody tr th {\n",
       "        vertical-align: top;\n",
       "    }\n",
       "\n",
       "    .dataframe thead th {\n",
       "        text-align: right;\n",
       "    }\n",
       "</style>\n",
       "<table border=\"1\" class=\"dataframe\">\n",
       "  <thead>\n",
       "    <tr style=\"text-align: right;\">\n",
       "      <th></th>\n",
       "      <th>Epochs</th>\n",
       "      <th>Training Accuracy</th>\n",
       "      <th>Validation Accuracy</th>\n",
       "      <th>Training Loss</th>\n",
       "      <th>Validation Loss</th>\n",
       "    </tr>\n",
       "  </thead>\n",
       "  <tbody>\n",
       "    <tr>\n",
       "      <th>0</th>\n",
       "      <td>11</td>\n",
       "      <td>0.7769</td>\n",
       "      <td>0.8145</td>\n",
       "      <td>0.7151</td>\n",
       "      <td>0.6599</td>\n",
       "    </tr>\n",
       "    <tr>\n",
       "      <th>1</th>\n",
       "      <td>12</td>\n",
       "      <td>0.7842</td>\n",
       "      <td>0.8069</td>\n",
       "      <td>0.6903</td>\n",
       "      <td>0.6651</td>\n",
       "    </tr>\n",
       "    <tr>\n",
       "      <th>2</th>\n",
       "      <td>13</td>\n",
       "      <td>0.7876</td>\n",
       "      <td>0.8042</td>\n",
       "      <td>0.6854</td>\n",
       "      <td>0.6402</td>\n",
       "    </tr>\n",
       "    <tr>\n",
       "      <th>3</th>\n",
       "      <td>14</td>\n",
       "      <td>0.7930</td>\n",
       "      <td>0.8158</td>\n",
       "      <td>0.6665</td>\n",
       "      <td>0.6277</td>\n",
       "    </tr>\n",
       "    <tr>\n",
       "      <th>4</th>\n",
       "      <td>15</td>\n",
       "      <td>0.7988</td>\n",
       "      <td>0.8359</td>\n",
       "      <td>0.6524</td>\n",
       "      <td>0.5626</td>\n",
       "    </tr>\n",
       "  </tbody>\n",
       "</table>\n",
       "</div>"
      ],
      "text/plain": [
       "   Epochs  Training Accuracy  Validation Accuracy  Training Loss  \\\n",
       "0      11             0.7769               0.8145         0.7151   \n",
       "1      12             0.7842               0.8069         0.6903   \n",
       "2      13             0.7876               0.8042         0.6854   \n",
       "3      14             0.7930               0.8158         0.6665   \n",
       "4      15             0.7988               0.8359         0.6524   \n",
       "\n",
       "   Validation Loss  \n",
       "0           0.6599  \n",
       "1           0.6651  \n",
       "2           0.6402  \n",
       "3           0.6277  \n",
       "4           0.5626  "
      ]
     },
     "execution_count": 169,
     "metadata": {},
     "output_type": "execute_result"
    }
   ],
   "source": [
    "# Since I manually interrupted the second training of the InceptionV3 model\n",
    "# I'll have to manually load the history data for that training\n",
    "# Should use Keras Callbacks in the next implementation to avoid this problem\n",
    "# and to also save the model at each epoch.\n",
    "\n",
    "history_inception_2_pd = pd.read_csv(os.path.join(project_folder, \"inceptionV3_history_2.csv\"), sep=\";\")\n",
    "history_inception_2_pd.head()"
   ]
  },
  {
   "cell_type": "code",
   "execution_count": 170,
   "id": "530c5649",
   "metadata": {},
   "outputs": [],
   "source": [
    "# Get the results on the training and validation data sets\n",
    "# for the first training session for the inceptionV3 model\n",
    "results_inceptionV3_pretrained_model_1 = np.vstack(\n",
    "    (\n",
    "        history_inception.history[\"accuracy\"],\n",
    "        history_inception.history[\"val_accuracy\"],\n",
    "        history_inception.history[\"loss\"],\n",
    "        history_inception.history[\"val_loss\"],\n",
    "    )\n",
    ").T\n",
    "\n",
    "# Create a Panda Dataframe from the results of the first training\n",
    "# session for the inceptionV3 Model\n",
    "\n",
    "history_inception_1_pd = pd.DataFrame(\n",
    "    {\n",
    "        \"Epochs\": range(1, results_inceptionV3_pretrained_model_1.shape[0] + 1),\n",
    "        \"Training Accuracy\": results_inceptionV3_pretrained_model_1[:, 0],\n",
    "        \"Validation Accuracy\": results_inceptionV3_pretrained_model_1[:, 1],\n",
    "        \"Training Loss\": results_inceptionV3_pretrained_model_1[:, 2],\n",
    "        \"Validation Loss\": results_inceptionV3_pretrained_model_1[:, 3],\n",
    "    }\n",
    ")"
   ]
  },
  {
   "cell_type": "code",
   "execution_count": 178,
   "id": "6c932bbb",
   "metadata": {},
   "outputs": [
    {
     "data": {
      "text/html": [
       "<div>\n",
       "<style scoped>\n",
       "    .dataframe tbody tr th:only-of-type {\n",
       "        vertical-align: middle;\n",
       "    }\n",
       "\n",
       "    .dataframe tbody tr th {\n",
       "        vertical-align: top;\n",
       "    }\n",
       "\n",
       "    .dataframe thead th {\n",
       "        text-align: right;\n",
       "    }\n",
       "</style>\n",
       "<table border=\"1\" class=\"dataframe\">\n",
       "  <thead>\n",
       "    <tr style=\"text-align: right;\">\n",
       "      <th></th>\n",
       "      <th>Epochs</th>\n",
       "      <th>Training Accuracy</th>\n",
       "      <th>Validation Accuracy</th>\n",
       "      <th>Training Loss</th>\n",
       "      <th>Validation Loss</th>\n",
       "    </tr>\n",
       "  </thead>\n",
       "  <tbody>\n",
       "    <tr>\n",
       "      <th>23</th>\n",
       "      <td>34</td>\n",
       "      <td>0.8408</td>\n",
       "      <td>0.8328</td>\n",
       "      <td>0.5050</td>\n",
       "      <td>0.5027</td>\n",
       "    </tr>\n",
       "    <tr>\n",
       "      <th>24</th>\n",
       "      <td>35</td>\n",
       "      <td>0.8377</td>\n",
       "      <td>0.8538</td>\n",
       "      <td>0.5046</td>\n",
       "      <td>0.4655</td>\n",
       "    </tr>\n",
       "    <tr>\n",
       "      <th>25</th>\n",
       "      <td>36</td>\n",
       "      <td>0.8406</td>\n",
       "      <td>0.8561</td>\n",
       "      <td>0.5026</td>\n",
       "      <td>0.4471</td>\n",
       "    </tr>\n",
       "    <tr>\n",
       "      <th>26</th>\n",
       "      <td>37</td>\n",
       "      <td>0.8393</td>\n",
       "      <td>0.8637</td>\n",
       "      <td>0.5048</td>\n",
       "      <td>0.4475</td>\n",
       "    </tr>\n",
       "    <tr>\n",
       "      <th>27</th>\n",
       "      <td>38</td>\n",
       "      <td>0.8460</td>\n",
       "      <td>0.8525</td>\n",
       "      <td>0.4943</td>\n",
       "      <td>0.4682</td>\n",
       "    </tr>\n",
       "  </tbody>\n",
       "</table>\n",
       "</div>"
      ],
      "text/plain": [
       "    Epochs  Training Accuracy  Validation Accuracy  Training Loss  \\\n",
       "23      34             0.8408               0.8328         0.5050   \n",
       "24      35             0.8377               0.8538         0.5046   \n",
       "25      36             0.8406               0.8561         0.5026   \n",
       "26      37             0.8393               0.8637         0.5048   \n",
       "27      38             0.8460               0.8525         0.4943   \n",
       "\n",
       "    Validation Loss  \n",
       "23           0.5027  \n",
       "24           0.4655  \n",
       "25           0.4471  \n",
       "26           0.4475  \n",
       "27           0.4682  "
      ]
     },
     "execution_count": 178,
     "metadata": {},
     "output_type": "execute_result"
    }
   ],
   "source": [
    "# Let's now concatenate both Dataframes for both training sessions\n",
    "\n",
    "history_inception_pd = pd.concat([history_inception_1_pd, history_inception_2_pd])\n",
    "history_inception_pd.tail()"
   ]
  },
  {
   "cell_type": "code",
   "execution_count": 177,
   "id": "31342a7b",
   "metadata": {},
   "outputs": [
    {
     "data": {
      "image/png": "[encoded data removed]",
      "text/plain": [
       "<Figure size 576x576 with 2 Axes>"
      ]
     },
     "metadata": {},
     "output_type": "display_data"
    }
   ],
   "source": [
    "plotResults(history_inception_pd)"
   ]
  },
  {
   "cell_type": "markdown",
   "id": "08be7380",
   "metadata": {},
   "source": [
    "***Training for a total of 38 Epochs got us an Validation Accuracy of 85% which is quite less than the simple First Model but since the training was taking to long I decided to stop and check the model performance on the other metrics as well (Confusion Matrix, Top-5 Accuracy).***"
   ]
  },
  {
   "cell_type": "code",
   "execution_count": null,
   "id": "782e8389",
   "metadata": {},
   "outputs": [],
   "source": [
    "# Load the InceptionV3 Model\n",
    "# In case you want to run the predictions on the savedModel (total of 38 Epochs Trained)\n",
    "\n",
    "inceptionV3_pretrained_model = tf.keras.models.load_model(os.path.join(project_folder, \"inceptionV3_pretrained_model/28\")"
   ]
  },
  {
   "cell_type": "code",
   "execution_count": 179,
   "id": "03e01688",
   "metadata": {},
   "outputs": [
    {
     "name": "stderr",
     "output_type": "stream",
     "text": [
      "2021-07-18 20:07:18.346908: I tensorflow/core/grappler/optimizers/custom_graph_optimizer_registry.cc:112] Plugin optimizer for device_type GPU is enabled.\n"
     ]
    }
   ],
   "source": [
    "# Let's now run some prediction on the InceptionV3 model\n",
    "\n",
    "Y_pred_inception = inceptionV3_pretrained_model.predict(validation_generator_test)"
   ]
  },
  {
   "cell_type": "code",
   "execution_count": 183,
   "id": "22ad3528",
   "metadata": {},
   "outputs": [
    {
     "name": "stdout",
     "output_type": "stream",
     "text": [
      "The Predictions shape is:  (2237,)\n",
      "The True Labels shape is:  (2237,)\n"
     ]
    }
   ],
   "source": [
    "# Then we convert the probabilities to a single integer that\n",
    "# describes the predicted class \n",
    "\n",
    "Y_pred_inception_converted = np.argmax(Y_pred_inception, axis=1)\n",
    "print(\"The Predictions shape is: \", Y_pred_inception_converted.shape)\n",
    "print(\"The True Labels shape is: \", validation_generator.labels.shape)"
   ]
  },
  {
   "cell_type": "code",
   "execution_count": 184,
   "id": "be7b25b7",
   "metadata": {},
   "outputs": [
    {
     "data": {
      "image/png": "[encoded data removed]",
      "text/plain": [
       "<Figure size 720x720 with 2 Axes>"
      ]
     },
     "metadata": {},
     "output_type": "display_data"
    }
   ],
   "source": [
    "# Let's calculate the Confusion Matrix for our predictions on the Validation Set\n",
    "cm = confusion_matrix(validation_generator.labels, Y_pred_inception_converted)\n",
    "\n",
    "plt.figure(figsize=(10,10))\n",
    "sns.heatmap(cm, annot=True, fmt='d', square=True)\n",
    "plt.show()"
   ]
  },
  {
   "cell_type": "code",
   "execution_count": 185,
   "id": "002c4e41",
   "metadata": {},
   "outputs": [
    {
     "name": "stdout",
     "output_type": "stream",
     "text": [
      "The First Model Top-1 Accuracy is:  0.8444345\n",
      "The First Model Top-5 Accuracy is:  0.9919535\n"
     ]
    }
   ],
   "source": [
    "# Let's calculate the Top-1 and Top-5 Accuracies\n",
    "\n",
    "# Using Keras TopKCategoricalAccuracy function to Calculate the TOP-1 Accuracy\n",
    "top1_inceptionV3_model = tf.keras.metrics.TopKCategoricalAccuracy(k=1)\n",
    "top1_inceptionV3_model.update_state(Y_true_one_hot, Y_pred_inception)\n",
    "\n",
    "# Using Keras TopKCategoricalAccuracy function to Calculate the TOP-5 Accuracy\n",
    "top5_inceptionV3_model = tf.keras.metrics.TopKCategoricalAccuracy(k=5)\n",
    "top5_inceptionV3_model.update_state(Y_true_one_hot, Y_pred_inception)\n",
    "\n",
    "print(\"The First Model Top-1 Accuracy is: \", top1_inceptionV3_model.result().numpy())\n",
    "print(\"The First Model Top-5 Accuracy is: \", top5_inceptionV3_model.result().numpy())"
   ]
  },
  {
   "cell_type": "markdown",
   "id": "032e42f6",
   "metadata": {},
   "source": [
    "## Predictions on Real Kaggle Test Data\n",
    "\n",
    "Let's now run predictions on both models for the real Test Set so we can submit them to Kaggle and compare the results."
   ]
  },
  {
   "cell_type": "code",
   "execution_count": 195,
   "id": "e885bb19",
   "metadata": {},
   "outputs": [
    {
     "name": "stdout",
     "output_type": "stream",
     "text": [
      "Found 79726 images belonging to 1 classes.\n"
     ]
    }
   ],
   "source": [
    "# Creating the ImageDataGenerator for the test data for the first model\n",
    "testing_datagen = tf.keras.preprocessing.image.ImageDataGenerator(rescale=1.0 / 255)\n",
    "testing_generator_first_model = testing_datagen.flow_from_directory(\n",
    "    TESTING_DIR, target_size=(320, 240), batch_size=100, class_mode=None, shuffle=False\n",
    ")"
   ]
  },
  {
   "cell_type": "code",
   "execution_count": 196,
   "id": "f075843e",
   "metadata": {},
   "outputs": [
    {
     "name": "stderr",
     "output_type": "stream",
     "text": [
      "2021-07-18 22:38:51.972855: I tensorflow/core/grappler/optimizers/custom_graph_optimizer_registry.cc:112] Plugin optimizer for device_type GPU is enabled.\n"
     ]
    }
   ],
   "source": [
    "# Let's predict for the Test set\n",
    "Y_pred_test_first_model = first_model.predict(testing_generator_first_model)"
   ]
  },
  {
   "cell_type": "code",
   "execution_count": 202,
   "id": "15b9fd1a",
   "metadata": {},
   "outputs": [
    {
     "name": "stdout",
     "output_type": "stream",
     "text": [
      "['test/img_1.jpg', 'test/img_10.jpg', 'test/img_100.jpg', 'test/img_1000.jpg', 'test/img_100000.jpg', 'test/img_100001.jpg', 'test/img_100002.jpg', 'test/img_100003.jpg', 'test/img_100004.jpg', 'test/img_100005.jpg', 'test/img_100007.jpg', 'test/img_100008.jpg', 'test/img_100009.jpg', 'test/img_10001.jpg', 'test/img_100010.jpg', 'test/img_100011.jpg', 'test/img_100012.jpg', 'test/img_100013.jpg', 'test/img_100014.jpg', 'test/img_100016.jpg', 'test/img_100017.jpg', 'test/img_100018.jpg', 'test/img_100019.jpg', 'test/img_10002.jpg', 'test/img_100020.jpg', 'test/img_100022.jpg', 'test/img_100023.jpg', 'test/img_100024.jpg', 'test/img_100025.jpg', 'test/img_100028.jpg', 'test/img_100030.jpg', 'test/img_100031.jpg', 'test/img_100032.jpg', 'test/img_100033.jpg', 'test/img_100034.jpg', 'test/img_100035.jpg', 'test/img_100037.jpg', 'test/img_100038.jpg', 'test/img_100039.jpg', 'test/img_10004.jpg', 'test/img_100040.jpg', 'test/img_100042.jpg', 'test/img_100043.jpg', 'test/img_100044.jpg', 'test/img_100047.jpg', 'test/img_100049.jpg', 'test/img_10005.jpg', 'test/img_100051.jpg', 'test/img_100052.jpg', 'test/img_100053.jpg', 'test/img_100054.jpg', 'test/img_100055.jpg', 'test/img_100056.jpg', 'test/img_100058.jpg', 'test/img_100059.jpg', 'test/img_10006.jpg', 'test/img_100060.jpg', 'test/img_100062.jpg', 'test/img_100063.jpg', 'test/img_100064.jpg', 'test/img_100066.jpg', 'test/img_100067.jpg', 'test/img_100068.jpg', 'test/img_100069.jpg', 'test/img_10007.jpg', 'test/img_100070.jpg', 'test/img_100071.jpg', 'test/img_100072.jpg', 'test/img_100073.jpg', 'test/img_100075.jpg', 'test/img_100077.jpg', 'test/img_100078.jpg', 'test/img_100079.jpg', 'test/img_10008.jpg', 'test/img_100080.jpg', 'test/img_100081.jpg', 'test/img_100082.jpg', 'test/img_100083.jpg', 'test/img_100084.jpg', 'test/img_100085.jpg', 'test/img_100086.jpg', 'test/img_100087.jpg', 'test/img_100088.jpg', 'test/img_100089.jpg', 'test/img_10009.jpg', 'test/img_100091.jpg', 'test/img_100092.jpg', 'test/img_100093.jpg', 'test/img_100094.jpg', 'test/img_100095.jpg', 'test/img_100096.jpg', 'test/img_100097.jpg', 'test/img_100098.jpg', 'test/img_100099.jpg', 'test/img_1001.jpg', 'test/img_10010.jpg', 'test/img_100101.jpg', 'test/img_100102.jpg', 'test/img_100103.jpg', 'test/img_100104.jpg']\n"
     ]
    }
   ],
   "source": [
    "#print(Y_pred_test_first_model[:10])\n",
    "#print(testing_generator_first_model.filenames[:100])\n",
    "test_first_model_pd = "
   ]
  },
  {
   "cell_type": "code",
   "execution_count": null,
   "id": "df994f83",
   "metadata": {},
   "outputs": [],
   "source": []
  }
 ],
 "metadata": {
  "kernelspec": {
   "display_name": "Python 3 (ipykernel)",
   "language": "python",
   "name": "python3"
  },
  "language_info": {
   "codemirror_mode": {
    "name": "ipython",
    "version": 3
   },
   "file_extension": ".py",
   "mimetype": "text/x-python",
   "name": "python",
   "nbconvert_exporter": "python",
   "pygments_lexer": "ipython3",
   "version": "3.9.2"
  }
 },
 "nbformat": 4,
 "nbformat_minor": 5
}
